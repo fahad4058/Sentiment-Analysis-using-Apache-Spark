{
 "cells": [
  {
   "cell_type": "markdown",
   "metadata": {},
   "source": [
    "## Initializations "
   ]
  },
  {
   "cell_type": "code",
   "execution_count": 1,
   "metadata": {},
   "outputs": [],
   "source": [
    "import tweepy\n",
    "import pandas as pd\n",
    "from tweepy import OAuthHandler \n",
    "from tweepy import Stream"
   ]
  },
  {
   "cell_type": "code",
   "execution_count": 2,
   "metadata": {},
   "outputs": [],
   "source": [
    "# Import Libraries\n",
    "from textblob import TextBlob\n",
    "import sys\n",
    "import tweepy\n",
    "import matplotlib.pyplot as plt\n",
    "import pandas as pd\n",
    "import numpy as np\n",
    "import os\n",
    "import nltk\n",
    "import pycountry\n",
    "import re\n",
    "import string\n",
    "from wordcloud import WordCloud, STOPWORDS\n",
    "from PIL import Image\n",
    "from nltk.sentiment.vader import SentimentIntensityAnalyzer\n",
    "from langdetect import detect\n",
    "from nltk.stem import SnowballStemmer\n",
    "from nltk.sentiment.vader import SentimentIntensityAnalyzer\n",
    "from sklearn.feature_extraction.text import CountVectorizer"
   ]
  },
  {
   "cell_type": "markdown",
   "metadata": {},
   "source": [
    "## Twitter API authentication"
   ]
  },
  {
   "cell_type": "code",
   "execution_count": 3,
   "metadata": {},
   "outputs": [],
   "source": [
    "## Secret token and keys to access the Twitter API\n",
    "###################### Keep Private ##########################################\n",
    "consumer_key=\"Insert Here\"\n",
    "consumer_secret=\"Insert Here\"\n",
    "bearer_token=\"Insert Here\"\n",
    "access_token=\"Insert Here\"\n",
    "access_secret=\"Insert Here\""
   ]
  },
  {
   "cell_type": "code",
   "execution_count": 4,
   "metadata": {},
   "outputs": [
    {
     "name": "stdout",
     "output_type": "stream",
     "text": [
      "https://api.twitter.com/oauth/authorize?oauth_token=UrfrwwAAAAABXvBtAAABfnfBD0g\n"
     ]
    }
   ],
   "source": [
    "auth = tweepy.OAuthHandler(consumer_key, consumer_secret)\n",
    "auth.set_access_token(access_token, access_secret)\n",
    "api = tweepy.API(auth,wait_on_rate_limit=True)\n",
    "## Optional\n",
    "## Redirects to the application page after asking for authorization\n",
    "redirect_url = auth.get_authorization_url()\n",
    "print(redirect_url)"
   ]
  },
  {
   "cell_type": "markdown",
   "metadata": {},
   "source": [
    "## Searching Tweets \n",
    "* based on a Keyword and Hashtag \n",
    "* Specifying the total number of tweets to be extracted "
   ]
  },
  {
   "cell_type": "code",
   "execution_count": 5,
   "metadata": {},
   "outputs": [
    {
     "name": "stdout",
     "output_type": "stream",
     "text": [
      "Please enter keyword or hashtag to search:Koblenz\n",
      "Please enter how many tweets to analyze: 500\n"
     ]
    }
   ],
   "source": [
    "keyword = input(\"Please enter keyword or hashtag to search:\")\n",
    "noOfTweet = int(input (\"Please enter how many tweets to analyze: \"))"
   ]
  },
  {
   "cell_type": "code",
   "execution_count": 6,
   "metadata": {},
   "outputs": [],
   "source": [
    "### Searches for the tweets based on a keyword \n",
    "tweets = tweepy.Cursor(api.search_tweets, q=keyword).items(noOfTweet)"
   ]
  },
  {
   "cell_type": "markdown",
   "metadata": {},
   "source": [
    "## Sentiment Analysis "
   ]
  },
  {
   "cell_type": "code",
   "execution_count": 7,
   "metadata": {},
   "outputs": [],
   "source": [
    "# percentage function to be used later\n",
    "def percentage(part,whole):\n",
    "     return 100 * float(part)/float(whole)"
   ]
  },
  {
   "cell_type": "code",
   "execution_count": 8,
   "metadata": {},
   "outputs": [],
   "source": [
    "# initializing variables and lists\n",
    "positive = 0\n",
    "negative = 0\n",
    "neutral = 0\n",
    "polarity = 0\n",
    "tweet_list = []\n",
    "neutral_list = []\n",
    "negative_list = []\n",
    "positive_list = []"
   ]
  },
  {
   "cell_type": "code",
   "execution_count": 9,
   "metadata": {},
   "outputs": [],
   "source": [
    "for tweet in tweets:\n",
    "    #print(tweet.text)\n",
    "    tweet_list.append(tweet.text)\n",
    "    analysis = TextBlob(tweet.text)\n",
    "    score = SentimentIntensityAnalyzer().polarity_scores(tweet.text)\n",
    "    neg = score['neg']\n",
    "    neu = score['neu']\n",
    "    pos = score['pos']\n",
    "    comp = score['compound']\n",
    "    polarity += analysis.sentiment.polarity\n",
    "    \n",
    "    if neg > pos:\n",
    "        negative_list.append(tweet.text)\n",
    "        negative += 1\n",
    "\n",
    "    elif pos > neg:\n",
    "        positive_list.append(tweet.text)\n",
    "        positive += 1\n",
    "    \n",
    "    elif pos == neg:\n",
    "        neutral_list.append(tweet.text)\n",
    "        neutral += 1"
   ]
  },
  {
   "cell_type": "code",
   "execution_count": 10,
   "metadata": {},
   "outputs": [],
   "source": [
    "positive = percentage(positive, noOfTweet)\n",
    "negative = percentage(negative, noOfTweet)\n",
    "neutral = percentage(neutral, noOfTweet)\n",
    "polarity = percentage(polarity, noOfTweet)\n",
    "positive = format(positive, '.1f')\n",
    "negative = format(negative, '.1f')\n",
    "neutral = format(neutral, '.1f')"
   ]
  },
  {
   "cell_type": "code",
   "execution_count": 11,
   "metadata": {},
   "outputs": [
    {
     "data": {
      "text/plain": [
       "500"
      ]
     },
     "execution_count": 11,
     "metadata": {},
     "output_type": "execute_result"
    }
   ],
   "source": [
    "# check total number of tweets extracted \n",
    "len(tweet_list)"
   ]
  },
  {
   "cell_type": "code",
   "execution_count": 12,
   "metadata": {},
   "outputs": [
    {
     "name": "stdout",
     "output_type": "stream",
     "text": [
      "total number:  500\n",
      "positive number:  85\n",
      "negative number:  94\n",
      "neutral number:  321\n"
     ]
    }
   ],
   "source": [
    "print(\"total number: \",len(tweet_list))\n",
    "print(\"positive number: \",len(positive_list))\n",
    "print(\"negative number: \", len(negative_list))\n",
    "print(\"neutral number: \",len(neutral_list))"
   ]
  },
  {
   "cell_type": "code",
   "execution_count": 13,
   "metadata": {},
   "outputs": [
    {
     "data": {
      "image/png": "[encoded data removed]",
      "text/plain": [
       "<Figure size 432x288 with 1 Axes>"
      ]
     },
     "metadata": {},
     "output_type": "display_data"
    }
   ],
   "source": [
    "#Creating PieCart\n",
    "\n",
    "labels = ['Positive ['+str(positive)+'%]' , 'Neutral ['+str(neutral)+'%]','Negative ['+str(negative)+'%]']\n",
    "sizes = [positive, neutral, negative]\n",
    "colors = ['yellowgreen', 'blue','red']\n",
    "patches, texts = plt.pie(sizes,colors=colors, startangle=90)\n",
    "plt.style.use('default')\n",
    "plt.legend(labels)\n",
    "plt.title(\"Sentiment Analysis Result for keyword=  \"+keyword+\"\" )\n",
    "plt.axis('equal')\n",
    "plt.show()"
   ]
  },
  {
   "cell_type": "markdown",
   "metadata": {},
   "source": [
    "## Inititalizing SPARK and importing all the necessary libraries "
   ]
  },
  {
   "cell_type": "code",
   "execution_count": 14,
   "metadata": {},
   "outputs": [],
   "source": [
    "import os\n",
    "import sys\n",
    "\n",
    "os.environ['PYSPARK_PYTHON'] = sys.executable\n",
    "os.environ['PYSPARK_DRIVER_PYTHON'] = sys.executable\n",
    "\n",
    "import findspark\n",
    "findspark.init()\n",
    "findspark.find()\n",
    "import pyspark\n",
    "\n",
    "from pyspark.sql import SparkSession\n",
    "from pyspark import SparkContext, SparkConf\n",
    "from pyspark.sql import SQLContext\n",
    "\n",
    "\n",
    "from pyspark.sql.types import *\n",
    "from pyspark.sql.functions import regexp_replace\n",
    "from pyspark.sql.functions import * \n",
    "\n",
    "conf = pyspark.SparkConf().setAppName('sentimentanalysis').setMaster('local[2]')\n",
    "#conf.set(\"spark.executor.heartbeatInterval\",\"3600s\")\n",
    "conf.set(\"spark.network.timeout\",\"10m\")\n",
    "\n",
    "conf.set(\"spark.executor.heartbeatInterval\",\"5m\")\n",
    "\n",
    "\n",
    "sc = pyspark.SparkContext('local[4]',conf=conf)\n",
    "spark = SparkSession(sc)\n",
    "sqlcontext=SQLContext(sc)"
   ]
  },
  {
   "cell_type": "code",
   "execution_count": null,
   "metadata": {},
   "outputs": [],
   "source": [
    "\n"
   ]
  },
  {
   "cell_type": "code",
   "execution_count": 15,
   "metadata": {},
   "outputs": [
    {
     "data": {
      "text/html": [
       "\n",
       "            <div>\n",
       "                <p><b>SparkSession - in-memory</b></p>\n",
       "                \n",
       "        <div>\n",
       "            <p><b>SparkContext</b></p>\n",
       "\n",
       "            <p><a href=\"http://141.26.191.245:4041\">Spark UI</a></p>\n",
       "\n",
       "            <dl>\n",
       "              <dt>Version</dt>\n",
       "                <dd><code>v3.1.1</code></dd>\n",
       "              <dt>Master</dt>\n",
       "                <dd><code>local[4]</code></dd>\n",
       "              <dt>AppName</dt>\n",
       "                <dd><code>sentimentanalysis</code></dd>\n",
       "            </dl>\n",
       "        </div>\n",
       "        \n",
       "            </div>\n",
       "        "
      ],
      "text/plain": [
       "<pyspark.sql.session.SparkSession at 0x162e23ddd00>"
      ]
     },
     "execution_count": 15,
     "metadata": {},
     "output_type": "execute_result"
    }
   ],
   "source": [
    "spark"
   ]
  },
  {
   "cell_type": "code",
   "execution_count": 16,
   "metadata": {},
   "outputs": [],
   "source": [
    "tweets_df=spark.createDataFrame(data=tweet_list,schema=StringType())\n",
    "neutral_df = spark.createDataFrame(data=neutral_list,schema=StringType())\n",
    "negative_df = spark.createDataFrame(data=negative_list,schema=StringType())\n",
    "positive_df = spark.createDataFrame(data=positive_list,schema=StringType())"
   ]
  },
  {
   "cell_type": "markdown",
   "metadata": {},
   "source": [
    "from googletrans import Translator  \n",
    "import time\n",
    "#from deep_translator import GoogleTranslator\n",
    "\n",
    "def my_tweets_translate(lines):\n",
    "    translator=Translator()\n",
    "    return translator.translate(text=lines, dest='en').text\n",
    "tweets_translateUDF=udf(my_tweets_translate, StringType())\n"
   ]
  },
  {
   "cell_type": "markdown",
   "metadata": {},
   "source": [
    "#Translating the tweets to english before pre-processing them\n",
    "tweets_df.withColumn(\"value\",tweets_translateUDF(\"value\")).show()\n"
   ]
  },
  {
   "cell_type": "code",
   "execution_count": 17,
   "metadata": {},
   "outputs": [],
   "source": [
    "import re\n",
    "def remove_emojis(data):\n",
    "    emoj = re.compile(\"[\"\n",
    "        u\"\\U0001F600-\\U0001F64F\"  # emoticons\n",
    "        u\"\\U0001F300-\\U0001F5FF\"  # symbols & pictographs\n",
    "        u\"\\U0001F680-\\U0001F6FF\"  # transport & map symbols\n",
    "        u\"\\U0001F1E0-\\U0001F1FF\"  # flags (iOS)\n",
    "        u\"\\U00002500-\\U00002BEF\"  # chinese char\n",
    "        u\"\\U00002702-\\U000027B0\"\n",
    "        u\"\\U00002702-\\U000027B0\"\n",
    "        u\"\\U000024C2-\\U0001F251\"\n",
    "        u\"\\U0001f926-\\U0001f937\"\n",
    "        u\"\\U00010000-\\U0010ffff\"\n",
    "        u\"\\u2640-\\u2642\" \n",
    "        u\"\\u2600-\\u2B55\"\n",
    "        u\"\\u200d\"\n",
    "        u\"\\u23cf\"\n",
    "        u\"\\u23e9\"\n",
    "        u\"\\u231a\"\n",
    "        u\"\\ufe0f\"  # dingbats\n",
    "        u\"\\u3030\"\n",
    "                      \"]+\", re.UNICODE)\n",
    "    return re.sub(emoj, '', data)\n",
    "\n",
    "remove_emojis_udf= udf(lambda x: remove_emojis(x),StringType())"
   ]
  },
  {
   "cell_type": "code",
   "execution_count": 18,
   "metadata": {},
   "outputs": [],
   "source": [
    "#### very nice technique \n",
    "def preprocessing(lines):\n",
    "    words = lines.select(explode(split(lines.value, \"t_end\")).alias(\"text\"))\n",
    "    words = words.na.replace('', None)\n",
    "    words = words.na.drop(\"any\")\n",
    "    words = words.distinct()\n",
    "    words = words.withColumn('text', regexp_replace('text', r'http\\S+', ''))\n",
    "    words = words.withColumn('text', regexp_replace('text', '@\\w+', ''))\n",
    "    words = words.withColumn('text', regexp_replace('text', '#', ''))\n",
    "    words = words.withColumn('text', regexp_replace('text', 'RT', ''))\n",
    "    words = words.withColumn('text', regexp_replace('text', ':', ''))\n",
    "    words = words.withColumn('text', regexp_replace('text', \"[^A-Za-z0-9]+\",\" \"))\n",
    "    words = words.withColumn('text', regexp_replace('text', '  ', ' '))\n",
    "    words = words.withColumn('text', regexp_replace('text', '   ', ' '))\n",
    "    words = words.withColumn('text', regexp_replace('text', '-', ''))\n",
    "    words = words.withColumn('text', regexp_replace('text', '&amp;', ''))\n",
    "    words = words.withColumn('text', regexp_replace('text', '&quot;', ''))\n",
    "    words = words.withColumn('text', regexp_replace('text', '&gt;', ''))\n",
    "    words = words.withColumn('text', regexp_replace('text', '&it;', ''))\n",
    "    words = words.withColumn('text', lower(words[\"text\"]))\n",
    "    words = words.withColumn('text', remove_emojis_udf(\"text\"))\n",
    "    #words = words.withColumn('text', tweets_translateudf(\"text\"))\n",
    "    \n",
    "    return words"
   ]
  },
  {
   "cell_type": "code",
   "execution_count": 19,
   "metadata": {},
   "outputs": [],
   "source": [
    "# updating the clean tweet\n",
    "tweets_df=preprocessing(tweets_df)"
   ]
  },
  {
   "cell_type": "code",
   "execution_count": 20,
   "metadata": {},
   "outputs": [],
   "source": [
    "tweets_df=tweets_df.repartition(1)"
   ]
  },
  {
   "cell_type": "code",
   "execution_count": 21,
   "metadata": {
    "scrolled": true
   },
   "outputs": [
    {
     "name": "stdout",
     "output_type": "stream",
     "text": [
      "+------------------------------------------------------------------------------------------------------------------------------+\n",
      "|text                                                                                                                          |\n",
      "+------------------------------------------------------------------------------------------------------------------------------+\n",
      "|nowplaying dualipa dua lipa love again radio teddy in koblenz auf 87 8                                                        |\n",
      "|koblenz trial dr kamal al labwani torture is applied systematically and comprehensively in all security instit                |\n",
      "| what breaks my heart while these trials in koblenz amp frankfurt took are taking place is that the crimes of the perpetr     |\n",
      "| a long queue of syrians and germans waiting for koblenz trial to start against anwar r the former chief of alkhatib          |\n",
      "| on the way to koblenz we stand up to tell the world that there are more than 100 000 detainees and forcibly disappear        |\n",
      "| der n chste schritt in der rechtlichen aufarbeitung der gr ueltaten in syrien steht an in frankfurt ist der arzt alaa m wege |\n",
      "|                                                                                                                              |\n",
      "|bautechniker m w d in koblenz gesucht jobs koblenz bautechniker                                                               |\n",
      "|liebe zweifachgeimpfte willkommen bei den asozialen unsolidarischen ungeimpften                                               |\n",
      "|re5 rrx 28521 abfahrt in wesel um 1411 uhr ankunft in koblenz hbf um 1642 uhr aktuell 10 min aufgr                            |\n",
      "| this is a moment to commend and applaud those that made the koblenz trial possible to those that contributed to this mome    |\n",
      "|rheinpegel 20 01 2022 1200 breisach 195cm maxau 437cm speyer 297cm worms 140cm bingen 182cm koblenz 221cm bonn 29             |\n",
      "| the most compelling case for justice in syria to give wafa and all of the families with loved ones disappeared in assad      |\n",
      "| in koblenz                                                                                                                   |\n",
      "|koblenz trial dr kamal al labwani torture is applied systematically and comprehensively in all security instit                |\n",
      "|stellenangebot gesundheits und krankenpfleger m w d an sthesie in koblenz                                                     |\n",
      "| photo of defected syrian intelligence officer anwar r who was sentenced by the koblenz high regional court to life im        |\n",
      "| montagnacht von 22 bis 5 uhr k nnt ihr im kreuz leverkusen west nicht von der a59 aus d sseldorf auf die a1 n                |\n",
      "| dann is jut was ist denn da noch in rlp kenn da nur koblenz                                                                  |\n",
      "|die polizeimeldung zum einsatz in koblenz sachsenstrasse                                                                      |\n",
      "+------------------------------------------------------------------------------------------------------------------------------+\n",
      "only showing top 20 rows\n",
      "\n"
     ]
    }
   ],
   "source": [
    "tweets_df.show(truncate=False)"
   ]
  },
  {
   "cell_type": "code",
   "execution_count": 22,
   "metadata": {},
   "outputs": [],
   "source": [
    "# text classification\n",
    "def polarity_detection(text):\n",
    "    return TextBlob(text).sentiment.polarity\n",
    "def subjectivity_detection(text):\n",
    "    return TextBlob(text).sentiment.subjectivity\n",
    "def getSentimentScore(text):\n",
    "    analyzer = SentimentIntensityAnalyzer()\n",
    "    score = analyzer.polarity_scores(text)\n",
    "    neg = score['neg']\n",
    "    neu = score['neu']\n",
    "    pos = score['pos']\n",
    "    if neg > pos:\n",
    "        return  \"negative\"\n",
    "    elif pos > neg:\n",
    "        return \"positive\"\n",
    "    else:\n",
    "        return \"neutral\"\n",
    "\n",
    "def text_classification(words):\n",
    "    # polarity detection\n",
    "    polarity_detection_udf = udf(polarity_detection, StringType())\n",
    "    words = words.withColumn(\"polarity\", polarity_detection_udf(\"text\"))\n",
    "    # subjectivity detection\n",
    "    subjectivity_detection_udf = udf(subjectivity_detection, StringType())\n",
    "    words = words.withColumn(\"subjectivity\", subjectivity_detection_udf(\"text\"))\n",
    "    # Sentiment score\n",
    "    getSentimentScore_udf=udf(lambda x: getSentimentScore(x),StringType())\n",
    "    words = words.withColumn(\"sentiment\", getSentimentScore_udf(\"text\"))\n",
    "    return words        \n",
    "                \n",
    "                "
   ]
  },
  {
   "cell_type": "code",
   "execution_count": 23,
   "metadata": {},
   "outputs": [],
   "source": [
    "# translate the text to English\n",
    "\n",
    "tweets = text_classification(tweets_df)\n"
   ]
  },
  {
   "cell_type": "code",
   "execution_count": 24,
   "metadata": {},
   "outputs": [
    {
     "name": "stdout",
     "output_type": "stream",
     "text": [
      "+--------------------+--------+------------------+---------+\n",
      "|                text|polarity|      subjectivity|sentiment|\n",
      "+--------------------+--------+------------------+---------+\n",
      "|nowplaying dualip...|     0.5|               0.6| positive|\n",
      "|koblenz trial dr ...|     0.0|               0.0| negative|\n",
      "| what breaks my h...|     0.0|               0.0|  neutral|\n",
      "| a long queue of ...|  -0.025|               0.2|  neutral|\n",
      "| on the way to ko...|     0.5|              0.75| negative|\n",
      "| der n chste schr...|     0.0|               0.0|  neutral|\n",
      "|                    |     0.0|               0.0|  neutral|\n",
      "|bautechniker m w ...|     0.0|               0.0|  neutral|\n",
      "|liebe zweifachgei...|     0.0|               0.0|  neutral|\n",
      "|re5 rrx 28521 abf...|     0.0|               0.0|  neutral|\n",
      "| this is a moment...|     0.0|               1.0| positive|\n",
      "|rheinpegel 20 01 ...|     0.0|               0.0|  neutral|\n",
      "| the most compell...|     0.5|0.6333333333333334| positive|\n",
      "|          in koblenz|     0.0|               0.0|  neutral|\n",
      "|koblenz trial dr ...|     0.0|               0.0| negative|\n",
      "|stellenangebot ge...|     0.0|               0.0|  neutral|\n",
      "| photo of defecte...|    0.16|0.5399999999999999| negative|\n",
      "| montagnacht von ...|     0.0|               0.0| negative|\n",
      "| dann is jut was ...|     0.0|               0.0|  neutral|\n",
      "|die polizeimeldun...|     0.0|               0.0| negative|\n",
      "+--------------------+--------+------------------+---------+\n",
      "only showing top 20 rows\n",
      "\n"
     ]
    }
   ],
   "source": [
    "tweets.show()"
   ]
  },
  {
   "cell_type": "code",
   "execution_count": 25,
   "metadata": {},
   "outputs": [
    {
     "name": "stdout",
     "output_type": "stream",
     "text": [
      "+---------+-----+\n",
      "|sentiment|count|\n",
      "+---------+-----+\n",
      "| positive|   35|\n",
      "|  neutral|  214|\n",
      "| negative|   91|\n",
      "+---------+-----+\n",
      "\n"
     ]
    }
   ],
   "source": [
    "tweets.groupBy(\"sentiment\").count().show()"
   ]
  },
  {
   "cell_type": "markdown",
   "metadata": {},
   "source": [
    "## Machine Learning : to be continued..."
   ]
  },
  {
   "cell_type": "code",
   "execution_count": null,
   "metadata": {},
   "outputs": [],
   "source": []
  }
 ],
 "metadata": {
  "kernelspec": {
   "display_name": "Python 3 (ipykernel)",
   "language": "python",
   "name": "python3"
  },
  "language_info": {
   "codemirror_mode": {
    "name": "ipython",
    "version": 3
   },
   "file_extension": ".py",
   "mimetype": "text/x-python",
   "name": "python",
   "nbconvert_exporter": "python",
   "pygments_lexer": "ipython3",
   "version": "3.9.7"
  }
 },
 "nbformat": 4,
 "nbformat_minor": 2
}
